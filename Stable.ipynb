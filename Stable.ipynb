{
  "cells": [
    {
      "cell_type": "markdown",
      "metadata": {
        "id": "view-in-github",
        "colab_type": "text"
      },
      "source": [
        "<a href=\"https://colab.research.google.com/github/SystemCallBeam/new/blob/main/Stable.ipynb\" target=\"_parent\"><img src=\"https://colab.research.google.com/assets/colab-badge.svg\" alt=\"Open In Colab\"/></a>"
      ]
    },
    {
      "cell_type": "code",
      "execution_count": 1,
      "metadata": {
        "colab": {
          "base_uri": "https://localhost:8080/"
        },
        "id": "XdkHGzN5PtUl",
        "outputId": "8daa674a-0931-4a19-e9c8-0918574da404"
      },
      "outputs": [
        {
          "output_type": "stream",
          "name": "stdout",
          "text": [
            "[0, 0]\n"
          ]
        }
      ],
      "source": [
        "n = 2#int(input())\n",
        "H = n*[0]\n",
        "print(H)\n",
        "Member = n*[0]\n",
        "Index = n*[0]"
      ]
    },
    {
      "cell_type": "code",
      "execution_count": null,
      "metadata": {
        "id": "DdNtiS5GNWSM"
      },
      "outputs": [],
      "source": [
        "for i in range(n):\n",
        "  Member[i] = int(input())\n",
        "  H[i] = (Member[i]*2) * [0]\n",
        "  Index[i] = Member[i]*[1]\n",
        "  print(H)\n",
        "  for j in range(Member[i]*2):\n",
        "    H[i][j] = [int(x) for x in input().split()]\n",
        "    H[i][j][0] = 0\n",
        "    print(H[i])"
      ]
    },
    {
      "cell_type": "code",
      "execution_count": 2,
      "metadata": {
        "colab": {
          "base_uri": "https://localhost:8080/"
        },
        "id": "susL949bPeh5",
        "outputId": "94e8bab2-fc33-4421-c1c0-1e032ba80f9b"
      },
      "outputs": [
        {
          "output_type": "stream",
          "name": "stdout",
          "text": [
            "[0, 0]\n"
          ]
        }
      ],
      "source": [
        "print(H)"
      ]
    },
    {
      "cell_type": "code",
      "source": [
        "n = 2\n",
        "H = n*[0]\n",
        "print(H)\n",
        "Member = n*[0]\n",
        "Index = n*[0]"
      ],
      "metadata": {
        "colab": {
          "base_uri": "https://localhost:8080/"
        },
        "id": "78M2t0NjjW0r",
        "outputId": "5bfb52c3-2811-4baa-b3da-d7610316cffd"
      },
      "execution_count": 79,
      "outputs": [
        {
          "output_type": "stream",
          "name": "stdout",
          "text": [
            "[0, 0]\n"
          ]
        }
      ]
    },
    {
      "cell_type": "code",
      "source": [
        "# n ==== 1\n",
        "Member = [3]\n",
        "H = [[[0, 1, 2, 3], [0, 1, 3, 2], [0, 2, 3, 1], [0, 1, 2, 3], [0, 1, 3, 2], [0, 3, 1, 2]]]\n",
        "print(H)\n",
        "Index = [[1, 1, 1]]\n",
        "print(Index)\n"
      ],
      "metadata": {
        "colab": {
          "base_uri": "https://localhost:8080/"
        },
        "id": "7TZT48vTgTip",
        "outputId": "0a6ec579-a302-45b1-bbcf-a54d1ad6f4d2"
      },
      "execution_count": 69,
      "outputs": [
        {
          "output_type": "stream",
          "name": "stdout",
          "text": [
            "[[[0, 1, 2, 3], [0, 1, 3, 2], [0, 2, 3, 1], [0, 1, 2, 3], [0, 1, 3, 2], [0, 3, 1, 2]]]\n",
            "[[1, 1, 1]]\n"
          ]
        }
      ]
    },
    {
      "cell_type": "code",
      "execution_count": 105,
      "metadata": {
        "colab": {
          "base_uri": "https://localhost:8080/"
        },
        "id": "5NDX5_E4yTxd",
        "outputId": "080629af-4f10-4e0d-9ded-54f51d677251"
      },
      "outputs": [
        {
          "output_type": "stream",
          "name": "stdout",
          "text": [
            "[[[0, 1, 2, 3], [0, 1, 3, 2], [0, 2, 3, 1], [0, 1, 2, 3], [0, 1, 3, 2], [0, 3, 1, 2]], [[0, 2, 1], [0, 2, 1], [0, 1, 2], [0, 1, 2]]]\n",
            "[[1, 1, 1], [1, 1]]\n"
          ]
        }
      ],
      "source": [
        "# n ==== 2\n",
        "Member = [3, 2]\n",
        "H = [[[0, 1, 2, 3], [0, 1, 3, 2], [0, 2, 3, 1], [0, 1, 2, 3], [0, 1, 3, 2], [0, 3, 1, 2]], [[0, 2, 1], [0, 2, 1], [0, 1, 2], [0, 1, 2]]]\n",
        "print(H)\n",
        "Index = [[1, 1, 1], [1, 1]]\n",
        "print(Index)\n"
      ]
    },
    {
      "cell_type": "code",
      "source": [
        "print(H)\n",
        "print(Index)"
      ],
      "metadata": {
        "colab": {
          "base_uri": "https://localhost:8080/"
        },
        "id": "7hhnxcWWfRia",
        "outputId": "1e337525-281e-42b6-adad-ad07d1cfbb2b"
      },
      "execution_count": 32,
      "outputs": [
        {
          "output_type": "stream",
          "name": "stdout",
          "text": [
            "[[[1, 2, 1], [0, 2, 1], [0, 0, 2], [1, 0, 2]]]\n",
            "[[2, 2]]\n"
          ]
        }
      ]
    },
    {
      "cell_type": "code",
      "source": [
        "print(H)\n",
        "print(Index)"
      ],
      "metadata": {
        "colab": {
          "base_uri": "https://localhost:8080/"
        },
        "id": "f9hlM8Snf1Pk",
        "outputId": "ab4d5e6e-0901-49d3-eaed-f69d41ddd6c7"
      },
      "execution_count": 37,
      "outputs": [
        {
          "output_type": "stream",
          "name": "stdout",
          "text": [
            "[[[1, 2, 1], [0, 2, 1], [0, 0, 2], [1, 0, 2]]]\n",
            "[[2, 2]]\n"
          ]
        }
      ]
    },
    {
      "cell_type": "code",
      "execution_count": 70,
      "metadata": {
        "id": "o_uJaA0Fci3e"
      },
      "outputs": [],
      "source": [
        "def findIdx(ValM_W, Table, i, Midx):\n",
        "  for idxM_W in range(1, len(Table[i][Midx])):\n",
        "    if Table[i][Midx][idxM_W] == ValM_W:\n",
        "      return idxM_W;"
      ]
    },
    {
      "cell_type": "code",
      "execution_count": 104,
      "metadata": {
        "id": "vA7MpL37k2Vz"
      },
      "outputs": [],
      "source": [
        "def Check(Table, n):\n",
        "  for i in range(n):\n",
        "    for no in range(len(Table[i])):\n",
        "      if Table[i][no][0] == 0:\n",
        "        return True\n",
        "  else:\n",
        "    return False"
      ]
    },
    {
      "cell_type": "code",
      "execution_count": 106,
      "metadata": {
        "id": "j3Gagfm3Yw87"
      },
      "outputs": [],
      "source": [
        "E_noCouple = True\n",
        "while E_noCouple:\n",
        "\n",
        "  for i in range(n):\n",
        "\n",
        "    k = Member[i]\n",
        "    for j in range(k):\n",
        "\n",
        "      #print('MNo. -> ', H[i][j + k][0])\n",
        "      if H[i][j + k][0] != 0 or Index[i][j] > k:\n",
        "        continue\n",
        "      #print('Nobreak')    \n",
        "\n",
        "      Midx = H[i][j + k][Index[i][j]] - 1\n",
        "      idxM_W = H[i][Midx][0]\n",
        "      Widx = H[i][Midx][idxM_W] - 1\n",
        "      ValW_M = H[i][Widx + k][0]\n",
        "\n",
        "      if H[i][Midx][0] == 0:   # ถ้ายังไม่มีคู่\n",
        "        H[i][Midx][0] = findIdx(j + 1, H, i, Midx)\n",
        "        H[i][j + k][0] = Midx + 1\n",
        "        H[i][j + k][Index[i][j]] = 0\n",
        "        Index[i][j]+=1\n",
        "      else:  # ถ้ามีคู่แล้ว\n",
        "        idx = findIdx(j + 1, H, i, Midx)\n",
        "        if idx < idxM_W:  # ถ้าผู้หญิงชอบผู้ชายคนนี้มากกว่าคนเก่า\n",
        "          H[i][Widx + k][0] = 0\n",
        "          H[i][Midx][0] = findIdx(j + 1, H, i, Midx)\n",
        "          H[i][j + k][0] = Midx + 1\n",
        "          H[i][j + k][Index[i][j]] = 0\n",
        "          Index[i][j]+=1\n",
        "        else:\n",
        "          H[i][j + k][Index[i][j]] = 0\n",
        "          Index[i][j]+=1\n",
        "          \n",
        "\n",
        "    E_noCouple = Check(H, n)"
      ]
    },
    {
      "cell_type": "code",
      "execution_count": 107,
      "metadata": {
        "colab": {
          "base_uri": "https://localhost:8080/"
        },
        "id": "J7tGqNW5pG24",
        "outputId": "e2d815b5-b188-4738-8329-088425b02113"
      },
      "outputs": [
        {
          "output_type": "stream",
          "name": "stdout",
          "text": [
            "[[[1, 1, 2, 3], [2, 1, 3, 2], [1, 2, 3, 1], [1, 0, 2, 3], [3, 0, 0, 2], [2, 0, 0, 0]], [[1, 2, 1], [2, 2, 1], [2, 0, 0], [1, 0, 2]]]\n",
            "[[2, 3, 4], [3, 2]]\n"
          ]
        }
      ],
      "source": [
        "print(H)\n",
        "print(Index)\n"
      ]
    },
    {
      "cell_type": "code",
      "source": [],
      "metadata": {
        "id": "RyItUb_1yl1D"
      },
      "execution_count": null,
      "outputs": []
    }
  ],
  "metadata": {
    "colab": {
      "collapsed_sections": [],
      "provenance": [],
      "authorship_tag": "ABX9TyPsmC+XDkspKipxJXuCdmSK",
      "include_colab_link": true
    },
    "kernelspec": {
      "display_name": "Python 3",
      "name": "python3"
    },
    "language_info": {
      "name": "python"
    }
  },
  "nbformat": 4,
  "nbformat_minor": 0
}