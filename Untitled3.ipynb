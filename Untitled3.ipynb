{
  "nbformat": 4,
  "nbformat_minor": 0,
  "metadata": {
    "colab": {
      "provenance": [],
      "collapsed_sections": [],
      "authorship_tag": "ABX9TyM2JEcgALyGEPBDDFe//YcC",
      "include_colab_link": true
    },
    "kernelspec": {
      "name": "python3",
      "display_name": "Python 3"
    },
    "language_info": {
      "name": "python"
    }
  },
  "cells": [
    {
      "cell_type": "markdown",
      "metadata": {
        "id": "view-in-github",
        "colab_type": "text"
      },
      "source": [
        "<a href=\"https://colab.research.google.com/github/SystemCallBeam/new/blob/main/Untitled3.ipynb\" target=\"_parent\"><img src=\"https://colab.research.google.com/assets/colab-badge.svg\" alt=\"Open In Colab\"/></a>"
      ]
    },
    {
      "cell_type": "code",
      "source": [
        "n = 2#int(input())\n",
        "H = n*[0]\n",
        "print(H)\n",
        "MEMgroup = n*[0]\n",
        "Index = n*[0]"
      ],
      "metadata": {
        "colab": {
          "base_uri": "https://localhost:8080/"
        },
        "id": "XdkHGzN5PtUl",
        "outputId": "6bed861e-d6c7-438f-ee15-eb52efea8747"
      },
      "execution_count": 100,
      "outputs": [
        {
          "output_type": "stream",
          "name": "stdout",
          "text": [
            "[0, 0]\n"
          ]
        }
      ]
    },
    {
      "cell_type": "code",
      "execution_count": 101,
      "metadata": {
        "colab": {
          "base_uri": "https://localhost:8080/"
        },
        "id": "DdNtiS5GNWSM",
        "outputId": "efa336a3-e1ba-42a6-bf4a-9cd176dd228a"
      },
      "outputs": [
        {
          "output_type": "stream",
          "name": "stdout",
          "text": [
            "3\n",
            "[[0, 0, 0, 0, 0, 0], 0]\n",
            "1 1 2 3\n",
            "[[0, 1, 2, 3], 0, 0, 0, 0, 0]\n",
            "2 1 3 2\n",
            "[[0, 1, 2, 3], [0, 1, 3, 2], 0, 0, 0, 0]\n",
            "3 2 3 1\n",
            "[[0, 1, 2, 3], [0, 1, 3, 2], [0, 2, 3, 1], 0, 0, 0]\n",
            "1 1 2 3\n",
            "[[0, 1, 2, 3], [0, 1, 3, 2], [0, 2, 3, 1], [0, 1, 2, 3], 0, 0]\n",
            "2 1 3 2\n",
            "[[0, 1, 2, 3], [0, 1, 3, 2], [0, 2, 3, 1], [0, 1, 2, 3], [0, 1, 3, 2], 0]\n",
            "3 2 1 3\n",
            "[[0, 1, 2, 3], [0, 1, 3, 2], [0, 2, 3, 1], [0, 1, 2, 3], [0, 1, 3, 2], [0, 2, 1, 3]]\n",
            "2\n",
            "[[[0, 1, 2, 3], [0, 1, 3, 2], [0, 2, 3, 1], [0, 1, 2, 3], [0, 1, 3, 2], [0, 2, 1, 3]], [0, 0, 0, 0]]\n",
            "1 2 1\n",
            "[[0, 2, 1], 0, 0, 0]\n",
            "2 2 1\n",
            "[[0, 2, 1], [0, 2, 1], 0, 0]\n",
            "1 1 2\n",
            "[[0, 2, 1], [0, 2, 1], [0, 1, 2], 0]\n",
            "2 1 2\n",
            "[[0, 2, 1], [0, 2, 1], [0, 1, 2], [0, 1, 2]]\n"
          ]
        }
      ],
      "source": [
        "for i in range(n):\n",
        "  MEMgroup[i] = int(input())\n",
        "  H[i] = (MEMgroup[i]*2) * [0]\n",
        "  Index[i] = MEMgroup[i]*[1]\n",
        "  print(H)\n",
        "  for j in range(MEMgroup[i]*2):\n",
        "    H[i][j] = [int(x) for x in input().split()]\n",
        "    H[i][j][0] = 0\n",
        "    print(H[i])"
      ]
    },
    {
      "cell_type": "code",
      "source": [
        "print(H)"
      ],
      "metadata": {
        "colab": {
          "base_uri": "https://localhost:8080/"
        },
        "id": "susL949bPeh5",
        "outputId": "7a0e7de6-9be8-41f4-e129-de90774974fc"
      },
      "execution_count": 112,
      "outputs": [
        {
          "output_type": "stream",
          "name": "stdout",
          "text": [
            "[[[3, 1, 2, 3], [1, 1, 3, 2], [1, 2, 3, 1], [2, 1, 0, 3], [3, 1, 0, 2], [1, 2, 0, 3]], [[0, 2, 1], [2, 2, 1], [2, 1, 0], [2, 1, 0]]]\n"
          ]
        }
      ]
    },
    {
      "cell_type": "code",
      "source": [
        "menChoose = int(H[0][((1) - 1)%2+2][1])\n",
        "print(menChoose)\n"
      ],
      "metadata": {
        "colab": {
          "base_uri": "https://localhost:8080/"
        },
        "id": "wMXoV9TzWrpv",
        "outputId": "fcc93125-9dad-4793-9313-ba2b083f039d"
      },
      "execution_count": 55,
      "outputs": [
        {
          "output_type": "stream",
          "name": "stdout",
          "text": [
            "2\n"
          ]
        }
      ]
    },
    {
      "cell_type": "code",
      "source": [
        "print(H[0][menChoose][0])"
      ],
      "metadata": {
        "colab": {
          "base_uri": "https://localhost:8080/"
        },
        "id": "XgMu4MiyXj2Y",
        "outputId": "7005901d-9f1f-48c8-a8a1-2cf41dca4a1c"
      },
      "execution_count": 56,
      "outputs": [
        {
          "output_type": "stream",
          "name": "stdout",
          "text": [
            "2\n"
          ]
        }
      ]
    },
    {
      "cell_type": "code",
      "source": [
        "print(H)"
      ],
      "metadata": {
        "colab": {
          "base_uri": "https://localhost:8080/"
        },
        "id": "DoSUyGWi1zeq",
        "outputId": "a414dfb8-f93e-414d-b1cc-b974d270ec6c"
      },
      "execution_count": 114,
      "outputs": [
        {
          "output_type": "stream",
          "name": "stdout",
          "text": [
            "[[[0, 1, 2, 3], [0, 1, 3, 2], [0, 2, 3, 1], [0, 1, 2, 3], [0, 1, 3, 2], [0, 2, 1, 3]], [[0, 2, 1], [0, 2, 1], [0, 1, 2], [0, 1, 2]]]\n"
          ]
        }
      ]
    },
    {
      "cell_type": "code",
      "source": [
        "H = [[[0, 1, 2, 3], [0, 1, 3, 2], [0, 2, 3, 1], [0, 1, 2, 3], [0, 1, 3, 2], [0, 2, 1, 3]], [[0, 2, 1], [0, 2, 1], [0, 1, 2], [0, 1, 2]]]\n",
        "print(H)\n",
        "Index = [[1, 1, 1], [1, 1]]\n",
        "print(Index)\n"
      ],
      "metadata": {
        "colab": {
          "base_uri": "https://localhost:8080/"
        },
        "id": "5NDX5_E4yTxd",
        "outputId": "a316d1ed-c0d9-4380-cc79-3cca99e2ff90"
      },
      "execution_count": 115,
      "outputs": [
        {
          "output_type": "stream",
          "name": "stdout",
          "text": [
            "[[[0, 1, 2, 3], [0, 1, 3, 2], [0, 2, 3, 1], [0, 1, 2, 3], [0, 1, 3, 2], [0, 2, 1, 3]], [[0, 2, 1], [0, 2, 1], [0, 1, 2], [0, 1, 2]]]\n",
            "[[1, 1, 1], [1, 1]]\n"
          ]
        }
      ]
    },
    {
      "cell_type": "code",
      "source": [
        "def findIdx(man, table, i, women):\n",
        "  for idx in range(1, len(table[i][women])):\n",
        "    if table[i][women][idx] == man:\n",
        "      return int(idx);"
      ],
      "metadata": {
        "id": "o_uJaA0Fci3e"
      },
      "execution_count": 116,
      "outputs": []
    },
    {
      "cell_type": "code",
      "source": [
        "#def Check(table, i, member):\n",
        "#   for n in range(member):\n",
        "#     if table[i][n][0] == 0:\n",
        "#       return 1\n",
        "#     else:\n",
        "#       return 0"
      ],
      "metadata": {
        "id": "vA7MpL37k2Vz"
      },
      "execution_count": null,
      "outputs": []
    },
    {
      "cell_type": "code",
      "source": [
        "def findIdx(man, table, i, women):\n",
        "  for idx in range(1, len(table[i][women])):\n",
        "    if table[i][women][idx] == man:\n",
        "      return int(idx);\n",
        "\n",
        "for i in range(n):\n",
        "  \n",
        "  for j in range(MEMgroup[i]):\n",
        "    menChoose = int(H[i][j+MEMgroup[i]][Index[i][j]]) - 1\n",
        "    if H[i][menChoose][0] == 0:\n",
        "      H[i][menChoose][0] = findIdx(j + 1, H, i, menChoose)\n",
        "      H[i][j + MEMgroup[i]][0] = H[i][j + MEMgroup[i]][Index[i][j]]\n",
        "      H[i][j + MEMgroup[i]][Index[i][j]] = 0\n",
        "      Index[i][j]+=1\n",
        "    else:\n",
        "      idx = findIdx(j + 1, H, i, menChoose)\n",
        "      if idx < H[i][menChoose][0]:\n",
        "        H[i][j + MEMgroup[i]][0] = H[i][j + MEMgroup[i]][Index[i][j]]\n",
        "        H[i][j + MEMgroup[i]][Index[i][j]] = 0\n",
        "        Index[i][j]+=1\n",
        "      else:\n",
        "        Index[i][j]+=1"
      ],
      "metadata": {
        "id": "j3Gagfm3Yw87"
      },
      "execution_count": 117,
      "outputs": []
    },
    {
      "cell_type": "code",
      "source": [
        "H[0][1][0] = 0"
      ],
      "metadata": {
        "id": "UxkLLvSSwuSC"
      },
      "execution_count": 94,
      "outputs": []
    },
    {
      "cell_type": "code",
      "source": [
        "print(H)"
      ],
      "metadata": {
        "colab": {
          "base_uri": "https://localhost:8080/"
        },
        "id": "J7tGqNW5pG24",
        "outputId": "289564d9-1ffb-4239-8c9a-a09aac194d96"
      },
      "execution_count": 118,
      "outputs": [
        {
          "output_type": "stream",
          "name": "stdout",
          "text": [
            "[[[1, 1, 2, 3], [2, 1, 3, 2], [0, 2, 3, 1], [1, 0, 2, 3], [0, 1, 3, 2], [2, 0, 1, 3]], [[2, 2, 1], [0, 2, 1], [1, 0, 2], [1, 0, 2]]]\n"
          ]
        }
      ]
    }
  ]
}