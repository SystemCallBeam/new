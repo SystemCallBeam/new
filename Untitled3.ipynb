{
  "nbformat": 4,
  "nbformat_minor": 0,
  "metadata": {
    "colab": {
      "provenance": [],
      "authorship_tag": "ABX9TyMytFVKQ0kYqt32ULs4Ygm4",
      "include_colab_link": true
    },
    "kernelspec": {
      "name": "python3",
      "display_name": "Python 3"
    },
    "language_info": {
      "name": "python"
    }
  },
  "cells": [
    {
      "cell_type": "markdown",
      "metadata": {
        "id": "view-in-github",
        "colab_type": "text"
      },
      "source": [
        "<a href=\"https://colab.research.google.com/github/SystemCallBeam/new/blob/main/Untitled3.ipynb\" target=\"_parent\"><img src=\"https://colab.research.google.com/assets/colab-badge.svg\" alt=\"Open In Colab\"/></a>"
      ]
    },
    {
      "cell_type": "code",
      "source": [
        "n = 2#int(input())\n",
        "H = n*[0]\n",
        "print(H)\n",
        "MEMgroup = n*[0]"
      ],
      "metadata": {
        "colab": {
          "base_uri": "https://localhost:8080/"
        },
        "id": "XdkHGzN5PtUl",
        "outputId": "2f9fd773-4365-4d48-9db9-1fe4c9e7f106"
      },
      "execution_count": 57,
      "outputs": [
        {
          "output_type": "stream",
          "name": "stdout",
          "text": [
            "[0, 0]\n"
          ]
        }
      ]
    },
    {
      "cell_type": "code",
      "execution_count": 47,
      "metadata": {
        "colab": {
          "base_uri": "https://localhost:8080/"
        },
        "id": "DdNtiS5GNWSM",
        "outputId": "6a209a36-1c52-486b-996b-396b29ff827e"
      },
      "outputs": [
        {
          "output_type": "stream",
          "name": "stdout",
          "text": [
            "2\n",
            "[[0, 0, 0, 0], 0]\n",
            "1 2 1\n",
            "[['1', '2', '1'], 0, 0, 0]\n",
            "2 2 1\n",
            "[['1', '2', '1'], ['2', '2', '1'], 0, 0]\n",
            "2 2 1\n",
            "[['1', '2', '1'], ['2', '2', '1'], ['2', '2', '1'], 0]\n",
            "1 1 2\n",
            "[['1', '2', '1'], ['2', '2', '1'], ['2', '2', '1'], ['1', '1', '2']]\n",
            "2\n",
            "[[['1', '2', '1'], ['2', '2', '1'], ['2', '2', '1'], ['1', '1', '2']], [0, 0, 0, 0]]\n",
            "1 1 2\n",
            "[['1', '1', '2'], 0, 0, 0]\n",
            "1 1 2\n",
            "[['1', '1', '2'], ['1', '1', '2'], 0, 0]\n",
            "2 2 1\n",
            "[['1', '1', '2'], ['1', '1', '2'], ['2', '2', '1'], 0]\n",
            "2 2 1\n",
            "[['1', '1', '2'], ['1', '1', '2'], ['2', '2', '1'], ['2', '2', '1']]\n"
          ]
        }
      ],
      "source": [
        "for i in range(n):\n",
        "  MEMgroup[i] = int(input())\n",
        "  H[i] = (n*2) * [0]\n",
        "  print(H)\n",
        "  for j in range(n*2):\n",
        "    H[i][j] = input().split()\n",
        "    H[i][j][0] = 0\n",
        "    print(H[i])"
      ]
    },
    {
      "cell_type": "code",
      "source": [
        "print(H)"
      ],
      "metadata": {
        "colab": {
          "base_uri": "https://localhost:8080/"
        },
        "id": "susL949bPeh5",
        "outputId": "1db33be1-50b0-42e8-b591-60e71729b46a"
      },
      "execution_count": 48,
      "outputs": [
        {
          "output_type": "stream",
          "name": "stdout",
          "text": [
            "[[['1', '2', '1'], ['2', '2', '1'], ['2', '2', '1'], ['1', '1', '2']], [['1', '1', '2'], ['1', '1', '2'], ['2', '2', '1'], ['2', '2', '1']]]\n"
          ]
        }
      ]
    },
    {
      "cell_type": "code",
      "source": [
        "menChoose = int(H[0][((1) - 1)%2+2][1])\n",
        "print(menChoose)\n"
      ],
      "metadata": {
        "id": "wMXoV9TzWrpv",
        "outputId": "fcc93125-9dad-4793-9313-ba2b083f039d",
        "colab": {
          "base_uri": "https://localhost:8080/"
        }
      },
      "execution_count": 55,
      "outputs": [
        {
          "output_type": "stream",
          "name": "stdout",
          "text": [
            "2\n"
          ]
        }
      ]
    },
    {
      "cell_type": "code",
      "source": [
        "print(H[0][menChoose][0])"
      ],
      "metadata": {
        "id": "XgMu4MiyXj2Y",
        "outputId": "7005901d-9f1f-48c8-a8a1-2cf41dca4a1c",
        "colab": {
          "base_uri": "https://localhost:8080/"
        }
      },
      "execution_count": 56,
      "outputs": [
        {
          "output_type": "stream",
          "name": "stdout",
          "text": [
            "2\n"
          ]
        }
      ]
    },
    {
      "cell_type": "code",
      "source": [],
      "metadata": {
        "id": "j3Gagfm3Yw87"
      },
      "execution_count": null,
      "outputs": []
    }
  ]
}